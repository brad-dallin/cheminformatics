{
 "cells": [
  {
   "cell_type": "code",
   "execution_count": 1,
   "id": "74acfe28",
   "metadata": {},
   "outputs": [
    {
     "name": "stdout",
     "output_type": "stream",
     "text": [
      "Pandas Version: 2.2.3\n",
      "RDKit Version: 2024.09.6\n"
     ]
    }
   ],
   "source": [
    "# Import modules\n",
    "import rdkit\n",
    "import pandas as pd\n",
    "from notebook_utils import show_acs1996\n",
    "\n",
    "# Expand to see all columns\n",
    "pd.set_option('display.max_columns', None)\n",
    "\n",
    "# Suppress RDKit Output\n",
    "rdkit.RDLogger.DisableLog('rdApp.*')\n",
    "\n",
    "# Print versions\n",
    "print(f\"Pandas Version: {pd.__version__}\")\n",
    "print(f\"RDKit Version: {rdkit.__version__}\")"
   ]
  },
  {
   "cell_type": "code",
   "execution_count": null,
   "id": "ad23ccf2",
   "metadata": {},
   "outputs": [
    {
     "data": {
      "image/jpeg": "[encoded data removed]",
      "image/png": "[encoded data removed]",
      "text/plain": [
       "<PIL.PngImagePlugin.PngImageFile image mode=RGB size=129x80>"
      ]
     },
     "metadata": {},
     "output_type": "display_data"
    }
   ],
   "source": [
    "smiles = \"Nc1ccc(S(=O)(=O)Nc2ncccn2)cc1\"\n",
    "mol = rdkit.Chem.MolFromSmiles(smiles)\n",
    "\n",
    "# Find all nitrogen atoms in the molecule\n",
    "nitrogen_atoms = [atom.GetIdx() for atom in mol.GetAtoms() if atom.GetAtomicNum() == 7]\n",
    "\n",
    "# Highlight nitrogen atoms in blue\n",
    "img = show_acs1996(mol, \n",
    "                  legend=\"Sulfadiazine\", \n",
    "                  highlight_atoms=nitrogen_atoms,\n",
    "                  highlight_color=(1, 1, 0.7))\n",
    "display(img)"
   ]
  },
  {
   "cell_type": "code",
   "execution_count": null,
   "id": "a3b81035",
   "metadata": {},
   "outputs": [],
   "source": []
  }
 ],
 "metadata": {
  "kernelspec": {
   "display_name": "rdkit-env",
   "language": "python",
   "name": "python3"
  },
  "language_info": {
   "codemirror_mode": {
    "name": "ipython",
    "version": 3
   },
   "file_extension": ".py",
   "mimetype": "text/x-python",
   "name": "python",
   "nbconvert_exporter": "python",
   "pygments_lexer": "ipython3",
   "version": "3.13.2"
  }
 },
 "nbformat": 4,
 "nbformat_minor": 5
}
