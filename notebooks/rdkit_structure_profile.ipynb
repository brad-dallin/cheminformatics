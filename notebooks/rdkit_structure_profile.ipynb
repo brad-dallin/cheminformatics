{
 "cells": [
  {
   "cell_type": "code",
   "execution_count": null,
   "id": "74acfe28",
   "metadata": {},
   "outputs": [
    {
     "ename": "ModuleNotFoundError",
     "evalue": "No module named 'cheminformatics'",
     "output_type": "error",
     "traceback": [
      "\u001b[31m---------------------------------------------------------------------------\u001b[39m",
      "\u001b[31mModuleNotFoundError\u001b[39m                       Traceback (most recent call last)",
      "\u001b[36mCell\u001b[39m\u001b[36m \u001b[39m\u001b[32mIn[4]\u001b[39m\u001b[32m, line 4\u001b[39m\n\u001b[32m      2\u001b[39m \u001b[38;5;28;01mimport\u001b[39;00m\u001b[38;5;250m \u001b[39m\u001b[34;01mrdkit\u001b[39;00m\n\u001b[32m      3\u001b[39m \u001b[38;5;28;01mimport\u001b[39;00m\u001b[38;5;250m \u001b[39m\u001b[34;01mpandas\u001b[39;00m\u001b[38;5;250m \u001b[39m\u001b[38;5;28;01mas\u001b[39;00m\u001b[38;5;250m \u001b[39m\u001b[34;01mpd\u001b[39;00m\n\u001b[32m----> \u001b[39m\u001b[32m4\u001b[39m \u001b[38;5;28;01mfrom\u001b[39;00m\u001b[38;5;250m \u001b[39m\u001b[34;01mcheminformatics\u001b[39;00m\u001b[34;01m.\u001b[39;00m\u001b[34;01mvisualization\u001b[39;00m\u001b[38;5;250m \u001b[39m\u001b[38;5;28;01mimport\u001b[39;00m show_acs1996\n\u001b[32m      6\u001b[39m \u001b[38;5;66;03m# Expand to see all columns\u001b[39;00m\n\u001b[32m      7\u001b[39m pd.set_option(\u001b[33m'\u001b[39m\u001b[33mdisplay.max_columns\u001b[39m\u001b[33m'\u001b[39m, \u001b[38;5;28;01mNone\u001b[39;00m)\n",
      "\u001b[31mModuleNotFoundError\u001b[39m: No module named 'cheminformatics'"
     ]
    }
   ],
   "source": [
    "# Import modules\n",
    "import rdkit\n",
    "import pandas as pd\n",
    "from notebook_utils import show_acs1996\n",
    "\n",
    "# Expand to see all columns\n",
    "pd.set_option('display.max_columns', None)\n",
    "\n",
    "# Suppress RDKit Output\n",
    "rdkit.RDLogger.DisableLog('rdApp.*')\n",
    "\n",
    "# Print versions\n",
    "print(f\"Pandas Version: {pd.__version__}\")\n",
    "print(f\"RDKit Version: {rdkit.__version__}\")"
   ]
  },
  {
   "cell_type": "code",
   "execution_count": null,
   "id": "ad23ccf2",
   "metadata": {},
   "outputs": [],
   "source": [
    "smiles = \"Nc1ccc(S(=O)(=O)Nc2ncccn2)cc1\"\n",
    "mol = rdkit.Chem.MolFromSmiles(smiles)\n",
    "img = show_acs1996(mol, legend=\"Sulfadiazine\")\n",
    "display(img)"
   ]
  }
 ],
 "metadata": {
  "kernelspec": {
   "display_name": "rdkit-env",
   "language": "python",
   "name": "python3"
  },
  "language_info": {
   "codemirror_mode": {
    "name": "ipython",
    "version": 3
   },
   "file_extension": ".py",
   "mimetype": "text/x-python",
   "name": "python",
   "nbconvert_exporter": "python",
   "pygments_lexer": "ipython3",
   "version": "3.13.2"
  }
 },
 "nbformat": 4,
 "nbformat_minor": 5
}
