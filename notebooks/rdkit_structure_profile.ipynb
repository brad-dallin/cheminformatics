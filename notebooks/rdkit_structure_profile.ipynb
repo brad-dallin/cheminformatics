{
 "cells": [
  {
   "cell_type": "code",
   "execution_count": null,
   "id": "74acfe28",
   "metadata": {},
   "outputs": [],
   "source": [
    "# Import modules\n",
    "import rdkit\n",
    "import pandas as pd\n",
    "from cheminformatics.visualization import show_acs1996\n",
    "\n",
    "# Expand to see all columns\n",
    "pd.set_option('display.max_columns', None)\n",
    "\n",
    "# Suppress RDKit Output\n",
    "rdkit.RDLogger.DisableLog('rdApp.*')\n",
    "\n",
    "# Print versions\n",
    "print(f\"Pandas Version: {pd.__version__}\")\n",
    "print(f\"RDKit Version: {rdkit.__version__}\")"
   ]
  },
  {
   "cell_type": "code",
   "execution_count": null,
   "id": "ad23ccf2",
   "metadata": {},
   "outputs": [],
   "source": [
    "smiles = \"Nc1ccc(S(=O)(=O)Nc2ncccn2)cc1\"\n",
    "mol = rdkit.Chem.MolFromSmiles(smiles)\n",
    "img = show_acs1996(mol, legend=\"Sulfadiazine\")\n",
    "display(img)"
   ]
  }
 ],
 "metadata": {
  "language_info": {
   "name": "python"
  }
 },
 "nbformat": 4,
 "nbformat_minor": 5
}
