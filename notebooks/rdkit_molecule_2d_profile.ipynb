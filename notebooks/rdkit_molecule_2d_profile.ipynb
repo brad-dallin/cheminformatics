{
 "cells": [
  {
   "cell_type": "code",
   "execution_count": null,
   "metadata": {},
   "outputs": [],
   "source": [
    "# Import modules\n",
    "import os\n",
    "import pandas as pd\n",
    "import rdkit\n",
    "# from rdkit.Chem import Draw\n",
    "# from rdkit.Chem.Draw import IPythonConsole\n",
    "from rdkit.Chem import Descriptors\n",
    "from rdkit.Chem.MolStandardize import rdMolStandardize\n",
    "\n",
    "# Suppress RDKit Output\n",
    "rdkit.RDLogger.DisableLog('rdApp.*')\n",
    "\n",
    "# Print versions\n",
    "print(f\"Pandas Version: {pd.__version__}\")\n",
    "print(f\"RDKit Version: {rdkit.__version__}\")"
   ]
  },
  {
   "cell_type": "code",
   "execution_count": null,
   "metadata": {},
   "outputs": [],
   "source": [
    "# Paths\n",
    "path_data = os.path.realpath(\"../data\")\n",
    "input_file = \"chembl_approved_small_molecule_drugs.csv\"\n",
    "output_file = \"chembl_approved_small_molecule_drugs_rdkit-profiled.csv\"\n",
    "input_path = os.path.join(path_data, input_file)\n",
    "output_path = os.path.join(path_data, output_file)\n",
    "\n",
    "# Load CSV\n",
    "df = pd.read_csv(input_path)\n",
    "df.head()"
   ]
  },
  {
   "cell_type": "code",
   "execution_count": null,
   "metadata": {},
   "outputs": [],
   "source": [
    "largest_frag_app = rdMolStandardize.LargestFragmentChooser()\n",
    "uncharge_app = rdMolStandardize.Uncharger()\n",
    "mols = []\n",
    "skipped_indices = []\n",
    "for ii, smi in enumerate(df[\"smiles\"]):\n",
    "    try:\n",
    "        mol = rdkit.Chem.MolFromSmiles(\n",
    "            smi,\n",
    "            sanitize = False\n",
    "        )\n",
    "        assert mol is not None\n",
    "    except Exception as e:\n",
    "        skipped_indices.append(ii)\n",
    "        if pd.notna(smi):\n",
    "            print(f\"Error processing SMILES at index {ii}: {smi}\")\n",
    "            print(f\"Exception: {e}\")\n",
    "        continue\n",
    "    try:\n",
    "        rdkit.Chem.SanitizeMol(mol)\n",
    "        largest_frag_app.chooseInPlace(mol)\n",
    "        uncharge_app.unchargeInPlace(mol)\n",
    "    except Exception as e:\n",
    "        skipped_indices.append(ii)\n",
    "        print(f\"Error processing molecule at index {ii}\")\n",
    "        print(f\"Exception: {e}\")\n",
    "        continue\n",
    "    descriptors = {}\n",
    "    for descriptor, fxn in Descriptors._descList:\n",
    "        # some of the descriptor fucntions can throw errors if they fail, catch those here:\n",
    "        try:\n",
    "            value = fxn(mol)\n",
    "        except Exception as e:\n",
    "            print(f\"Error calculating {descriptor} at index {ii}\")\n",
    "            print(f\"Exception: {e}\")\n",
    "            value = \"None\"\n",
    "        descriptors[descriptor] = value\n",
    "    mols.append((ii, mol, descriptors))\n",
    "\n",
    "print(f\"{len(mols)}/{df.shape[0]} molecules processed!\")\n",
    "print(f\"{df.shape[0]-len(mols)}/{df.shape[0]} molecules skipped!\")"
   ]
  },
  {
   "cell_type": "code",
   "execution_count": null,
   "metadata": {},
   "outputs": [],
   "source": []
  },
  {
   "cell_type": "code",
   "execution_count": null,
   "metadata": {},
   "outputs": [],
   "source": []
  }
 ],
 "metadata": {
  "kernelspec": {
   "display_name": "rdkit-env",
   "language": "python",
   "name": "python3"
  },
  "language_info": {
   "codemirror_mode": {
    "name": "ipython",
    "version": 3
   },
   "file_extension": ".py",
   "mimetype": "text/x-python",
   "name": "python",
   "nbconvert_exporter": "python",
   "pygments_lexer": "ipython3",
   "version": "3.13.2"
  }
 },
 "nbformat": 4,
 "nbformat_minor": 2
}
